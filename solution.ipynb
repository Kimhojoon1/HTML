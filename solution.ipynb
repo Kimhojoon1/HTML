{
 "cells": [
  {
   "cell_type": "code",
   "execution_count": null,
   "id": "b3fa248b",
   "metadata": {},
   "outputs": [],
   "source": [
    "class Point:\n",
    "        print((1,2))\n",
    "        print((3,4))\n",
    "        print((4,6))\n",
    "        \n",
    "a=Point(1,2)\n",
    "a.show()\n",
    "\n",
    "b=Point(3,4)\n",
    "b.show()\n",
    "\n",
    "a=a+b\n",
    "a.show()\n"
   ]
  },
  {
   "cell_type": "code",
   "execution_count": null,
   "id": "50c755f1",
   "metadata": {},
   "outputs": [],
   "source": [
    "import csv\n",
    "\n",
    "file = open(\"./seoul.csv\", \"r\", encoding='cp949')\n",
    "data = csv.reader(file)\n",
    "Data = next(data)\n",
    "lowest = float(Data[3])\n",
    "highest = float(Data[4])\n",
    "\n",
    "Range = highest - lowest\n",
    "highDate = Data[0]\n",
    "lowDate = Data[0]\n",
    "bigRange = Data[0]\n",
    "a=0\n",
    "b=0\n",
    "\n",
    "for k in data:\n",
    "    tempRange = float(k[4])-float(k[3])\n",
    "    count=1\n",
    "    sum=0\n",
    "    while(count<=count+6):\n",
    "        sum+=float(k[4])-float(k[3])\n",
    "        count=count+1\n",
    "    if(sum>a):\n",
    "        a=sum\n",
    "        b=count\n",
    "\n",
    "file.close()\n",
    "\n",
    "print(\"Max Week = 5/\",b,\" ~ 5/\",b+6)"
   ]
  },
  {
   "cell_type": "code",
   "execution_count": null,
   "id": "49b8cba4",
   "metadata": {},
   "outputs": [],
   "source": []
  }
 ],
 "metadata": {
  "kernelspec": {
   "display_name": "Python 3",
   "language": "python",
   "name": "python3"
  },
  "language_info": {
   "codemirror_mode": {
    "name": "ipython",
    "version": 3
   },
   "file_extension": ".py",
   "mimetype": "text/x-python",
   "name": "python",
   "nbconvert_exporter": "python",
   "pygments_lexer": "ipython3",
   "version": "3.8.8"
  }
 },
 "nbformat": 4,
 "nbformat_minor": 5
}
