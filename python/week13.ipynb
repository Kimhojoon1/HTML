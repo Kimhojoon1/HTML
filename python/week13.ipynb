{
 "cells": [
  {
   "cell_type": "code",
   "execution_count": null,
   "id": "2825335c",
   "metadata": {},
   "outputs": [],
   "source": [
    "import csv\n",
    "import matplotlib.pyplot as plt\n",
    " \n",
    "f = open('seoultemp.csv')\n",
    "data = csv.reader(f)\n",
    "next(data)\n",
    "high = []\n",
    "low=[]\n",
    "\n",
    "for row in data :\n",
    "    if row[-1] != '' and row[-2] != '' :\n",
    "        if 2011<=int(row[0].split('-')[0]) : \n",
    "            if row[0].split('-')[1] == '12' and row[0].split('-')[2] == '06' :\n",
    "                high.append(float(row[-1])) \n",
    "                low.append(float(row[-2]))  \n",
    " \n",
    "plt.plot(high, 'hotpink')  \n",
    "plt.plot(low, 'skyblue')   \n",
    "plt.show()  "
   ]
  },
  {
   "cell_type": "code",
   "execution_count": null,
   "id": "1eacb5d3",
   "metadata": {},
   "outputs": [],
   "source": [
    "import csv\n",
    "import matplotlib.pyplot as plt\n",
    " \n",
    "f = open('seoultemp.csv')\n",
    "data = csv.reader(f)\n",
    "next(data)\n",
    " \n",
    "aug = []                          \n",
    "jan = []                       \n",
    "\n",
    "for row in data :\n",
    "    month = row[0].split('-')[1]  \n",
    "    if row[-1] != '' :\n",
    "        if month == '08':              \n",
    "            aug.append(float(row[-1]))  \n",
    "        if month == '01':               \n",
    "            jan.append(float(row[-1]))  \n",
    "\n",
    "plt.hist(aug, bins=100, color ='r', label='Aug')\n",
    "plt.hist(jan, bins=100, color ='b', label='Jan')\n",
    "plt.legend()\n",
    "plt.show()"
   ]
  }
 ],
 "metadata": {
  "kernelspec": {
   "display_name": "Python 3",
   "language": "python",
   "name": "python3"
  },
  "language_info": {
   "codemirror_mode": {
    "name": "ipython",
    "version": 3
   },
   "file_extension": ".py",
   "mimetype": "text/x-python",
   "name": "python",
   "nbconvert_exporter": "python",
   "pygments_lexer": "ipython3",
   "version": "3.9.5"
  }
 },
 "nbformat": 4,
 "nbformat_minor": 5
}
