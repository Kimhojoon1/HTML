{
 "cells": [
  {
   "cell_type": "code",
   "execution_count": 6,
   "id": "dcc0f436",
   "metadata": {},
   "outputs": [
    {
     "ename": "ValueError",
     "evalue": "invalid literal for int() with base 10: '1,402'",
     "output_type": "error",
     "traceback": [
      "\u001b[1;31m---------------------------------------------------------------------------\u001b[0m",
      "\u001b[1;31mValueError\u001b[0m                                Traceback (most recent call last)",
      "\u001b[1;32m<ipython-input-6-f2a4af0b2cbc>\u001b[0m in \u001b[0;36m<module>\u001b[1;34m\u001b[0m\n\u001b[0;32m     19\u001b[0m \u001b[1;32mfor\u001b[0m \u001b[0mrow\u001b[0m \u001b[1;32min\u001b[0m \u001b[0mdata\u001b[0m \u001b[1;33m:\u001b[0m\u001b[1;33m\u001b[0m\u001b[1;33m\u001b[0m\u001b[0m\n\u001b[0;32m     20\u001b[0m     \u001b[1;32mif\u001b[0m \u001b[0mname\u001b[0m \u001b[1;32min\u001b[0m \u001b[0mrow\u001b[0m\u001b[1;33m[\u001b[0m\u001b[1;36m1\u001b[0m\u001b[1;33m]\u001b[0m \u001b[1;33m:\u001b[0m\u001b[1;33m\u001b[0m\u001b[1;33m\u001b[0m\u001b[0m\n\u001b[1;32m---> 21\u001b[1;33m         \u001b[0mhome\u001b[0m \u001b[1;33m=\u001b[0m \u001b[0mnp\u001b[0m\u001b[1;33m.\u001b[0m\u001b[0marray\u001b[0m\u001b[1;33m(\u001b[0m\u001b[0mrow\u001b[0m\u001b[1;33m[\u001b[0m\u001b[1;36m4\u001b[0m\u001b[1;33m:\u001b[0m\u001b[1;33m]\u001b[0m\u001b[1;33m,\u001b[0m \u001b[0mdtype\u001b[0m\u001b[1;33m=\u001b[0m\u001b[0mint\u001b[0m\u001b[1;33m)\u001b[0m\u001b[1;33m\u001b[0m\u001b[1;33m\u001b[0m\u001b[0m\n\u001b[0m\u001b[0;32m     22\u001b[0m \u001b[1;33m\u001b[0m\u001b[0m\n\u001b[0;32m     23\u001b[0m \u001b[1;33m\u001b[0m\u001b[0m\n",
      "\u001b[1;31mValueError\u001b[0m: invalid literal for int() with base 10: '1,402'"
     ]
    }
   ],
   "source": [
    "import numpy as np\n",
    "import csv\n",
    "import matplotlib.pyplot as plt\n",
    "\n",
    "f = open('age.csv')\n",
    "data = csv.reader(f)\n",
    "next(data)\n",
    "data = list(data)\n",
    "\n",
    "name = '서울특별시 광진구'\n",
    "fn=0\n",
    "cn=0\n",
    "close_name = \"\"\n",
    "close_result = 0\n",
    "far_name=\"\"\n",
    "far_result=0\n",
    "\n",
    "\n",
    "for row in data :\n",
    "    if name in row[1] :\n",
    "        home = np.array(row[4:], dtype=int) \n",
    "\n",
    "\n",
    "for row in data :\n",
    "    away = np.array(row[4:], dtype=int)  \n",
    "    far= np.array(row[4:], dtype=int)   \n",
    "    s = np.sum((home-away)**2)  \n",
    "    f=np.sum((home-far)**2)\n",
    "    if  s<fn and name not in row[1]:\n",
    "        fn=s\n",
    "        close_name=row[1]\n",
    "        close_result=away\n",
    "    elif f>fn and name not in row[1]:\n",
    "        fn=f\n",
    "        far_name=row[1]\n",
    "        far_result=far  \n",
    "        \n",
    "plt.style.use('ggplot')\n",
    "plt.figure(figsize=(10,5), dpi=300)\n",
    "plt.rc('font', family='Malgun Gothic')\n",
    "plt.title(name+' 지역과 가장 비슷하거나 다른 인구 구조를 가진 지역')\n",
    "plt.plot(home, label=name)\n",
    "plt.plot(close_result, label=(close_name,\"(\",np.std(away),\")\"))\n",
    "plt.plot(far_result,label=(far_name,\"(\",np.std(far),\")\"))\n",
    "plt.legend()\n",
    "plt.show()"
   ]
  },
  {
   "cell_type": "code",
   "execution_count": null,
   "id": "faa4baf0",
   "metadata": {},
   "outputs": [],
   "source": []
  }
 ],
 "metadata": {
  "kernelspec": {
   "display_name": "Python 3",
   "language": "python",
   "name": "python3"
  },
  "language_info": {
   "codemirror_mode": {
    "name": "ipython",
    "version": 3
   },
   "file_extension": ".py",
   "mimetype": "text/x-python",
   "name": "python",
   "nbconvert_exporter": "python",
   "pygments_lexer": "ipython3",
   "version": "3.9.5"
  }
 },
 "nbformat": 4,
 "nbformat_minor": 5
}
