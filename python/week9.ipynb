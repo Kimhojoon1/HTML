{
 "cells": [
  {
   "cell_type": "code",
   "execution_count": 1,
   "id": "c9db4726",
   "metadata": {},
   "outputs": [
    {
     "name": "stdout",
     "output_type": "stream",
     "text": [
      "x의 값을 입력하세요 : 3\n",
      "y값은  45 입니다.\n"
     ]
    }
   ],
   "source": [
    "x=int(input(\"x의 값을 입력하세요 : \"))\n",
    "y=3*x*x+5*x+3\n",
    "print(\"y값은 \",y,\"입니다.\")"
   ]
  },
  {
   "cell_type": "code",
   "execution_count": 2,
   "id": "a014790b",
   "metadata": {},
   "outputs": [
    {
     "name": "stdout",
     "output_type": "stream",
     "text": [
      "반지름 값을 입력하세요 : 4\n",
      "원의 넓이는  50.24\n",
      "원의 둘레는  25.12 입니다.\n"
     ]
    }
   ],
   "source": [
    "radius=int(input(\"반지름 값을 입력하세요 : \"))\n",
    "pi=3.14\n",
    "print(\"원의 넓이는 \",radius*radius*pi)\n",
    "print(\"원의 둘레는 \",radius*2*pi,\"입니다.\")"
   ]
  },
  {
   "cell_type": "code",
   "execution_count": null,
   "id": "0d0d8818",
   "metadata": {},
   "outputs": [],
   "source": []
  }
 ],
 "metadata": {
  "kernelspec": {
   "display_name": "Python 3",
   "language": "python",
   "name": "python3"
  },
  "language_info": {
   "codemirror_mode": {
    "name": "ipython",
    "version": 3
   },
   "file_extension": ".py",
   "mimetype": "text/x-python",
   "name": "python",
   "nbconvert_exporter": "python",
   "pygments_lexer": "ipython3",
   "version": "3.9.5"
  }
 },
 "nbformat": 4,
 "nbformat_minor": 5
}
