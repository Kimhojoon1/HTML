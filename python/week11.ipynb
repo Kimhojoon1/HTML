{
 "cells": [
  {
   "cell_type": "code",
   "execution_count": 2,
   "id": "c51b8a78",
   "metadata": {},
   "outputs": [
    {
     "name": "stdout",
     "output_type": "stream",
     "text": [
      "파일 이름 입력:input1.txt input2.txt\n"
     ]
    }
   ],
   "source": [
    "fname1,fname2 = input('파일 이름 입력:').split()\n",
    "f1 = open('./'+fname1,'r')\n",
    "f2 = open('./'+fname2,'w')\n",
    "txt = f1.readlines()\n",
    "for line in txt:\n",
    "    f2.write(line)\n",
    "f1.close()\n",
    "f2.close()"
   ]
  },
  {
   "cell_type": "code",
   "execution_count": 4,
   "id": "1fca169a",
   "metadata": {},
   "outputs": [
    {
     "name": "stdout",
     "output_type": "stream",
     "text": [
      "파일 이름 입력:input1.txt\n",
      "line: 9\n",
      "word: 86\n"
     ]
    }
   ],
   "source": [
    "fname = input('파일 이름 입력:')\n",
    "f = open('./'+fname, 'r')\n",
    "line = 0\n",
    "word = 0\n",
    "for row in f:\n",
    "    line += 1\n",
    "    word += len(row.split(' '))\n",
    "print('line:',line)\n",
    "print('word:',word)"
   ]
  },
  {
   "cell_type": "code",
   "execution_count": 6,
   "id": "ee4f37ac",
   "metadata": {},
   "outputs": [
    {
     "name": "stdout",
     "output_type": "stream",
     "text": [
      "1  +  2  =  3  입니다.\n",
      "5  -  1  =  4  입니다.\n",
      "2  *  3  =  6  입니다.\n",
      "6  /  2  =  3  입니다.\n"
     ]
    }
   ],
   "source": [
    "class Calc:\n",
    "    def sum(self, a,b):\n",
    "        result = a + b\n",
    "        print(a,\" + \",b,\" = \",result,\" 입니다.\")\n",
    "    \n",
    "    def sub(self, a, b):\n",
    "        result = a - b\n",
    "        print(a,\" - \",b,\" = \",result,\" 입니다.\")\n",
    "    def multi(self, a, b):\n",
    "        result = a * b\n",
    "        print(a,\" * \",b,\" = \",result,\" 입니다.\")\n",
    "    def div(self, a, b):\n",
    "        result = int(a / b)\n",
    "        print(a,\" / \",b,\" = \",result,\" 입니다.\")\n",
    "\n",
    "calc = Calc()\n",
    "calc.sum(1, 2)\n",
    "calc.sub(5, 1)\n",
    "calc.multi(2, 3)\n",
    "calc.div(6, 2)"
   ]
  },
  {
   "cell_type": "code",
   "execution_count": 7,
   "id": "4b38da56",
   "metadata": {},
   "outputs": [
    {
     "name": "stdout",
     "output_type": "stream",
     "text": [
      "수식을 입력하세요: 1+2\n"
     ]
    },
    {
     "ename": "NameError",
     "evalue": "name 'result' is not defined",
     "output_type": "error",
     "traceback": [
      "\u001b[1;31m---------------------------------------------------------------------------\u001b[0m",
      "\u001b[1;31mNameError\u001b[0m                                 Traceback (most recent call last)",
      "\u001b[1;32m<ipython-input-7-b4e62e6dbb62>\u001b[0m in \u001b[0;36m<module>\u001b[1;34m\u001b[0m\n\u001b[0;32m     78\u001b[0m \u001b[1;33m\u001b[0m\u001b[0m\n\u001b[0;32m     79\u001b[0m \u001b[0manswer\u001b[0m \u001b[1;33m=\u001b[0m \u001b[0mnumStk\u001b[0m\u001b[1;33m.\u001b[0m\u001b[0mpop\u001b[0m\u001b[1;33m(\u001b[0m\u001b[1;33m)\u001b[0m\u001b[1;33m\u001b[0m\u001b[1;33m\u001b[0m\u001b[0m\n\u001b[1;32m---> 80\u001b[1;33m \u001b[0mprint\u001b[0m\u001b[1;33m(\u001b[0m\u001b[1;34m\"답:\"\u001b[0m\u001b[1;33m,\u001b[0m\u001b[0mresult\u001b[0m\u001b[1;33m)\u001b[0m\u001b[1;33m\u001b[0m\u001b[1;33m\u001b[0m\u001b[0m\n\u001b[0m",
      "\u001b[1;31mNameError\u001b[0m: name 'result' is not defined"
     ]
    }
   ],
   "source": []
  },
  {
   "cell_type": "code",
   "execution_count": null,
   "id": "04048acd",
   "metadata": {},
   "outputs": [],
   "source": []
  }
 ],
 "metadata": {
  "kernelspec": {
   "display_name": "Python 3",
   "language": "python",
   "name": "python3"
  },
  "language_info": {
   "codemirror_mode": {
    "name": "ipython",
    "version": 3
   },
   "file_extension": ".py",
   "mimetype": "text/x-python",
   "name": "python",
   "nbconvert_exporter": "python",
   "pygments_lexer": "ipython3",
   "version": "3.9.5"
  }
 },
 "nbformat": 4,
 "nbformat_minor": 5
}
