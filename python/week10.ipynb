{
 "cells": [
  {
   "cell_type": "code",
   "execution_count": null,
   "id": "1764fde7",
   "metadata": {},
   "outputs": [],
   "source": [
    "s=input(\"숫자열을 입력하세요 :\")\n",
    "r=s.split()\n",
    "r=[int(i) for i in r]\n",
    "print(\"Max = \",max(r))"
   ]
  },
  {
   "cell_type": "code",
   "execution_count": null,
   "id": "3f541ed6",
   "metadata": {},
   "outputs": [],
   "source": [
    "s=input(\"암호화 문자열을 입력하세요 :\")\n",
    "r=s.split()\n",
    "r=r[::-1]\n",
    "s=\" \".join(r)\n",
    "slist=list(s)\n",
    "ordlist=[]\n",
    "for i in slist:\n",
    "    if(ord(i)!=32):\n",
    "        ordlist.append(ord(i)+1)\n",
    "    else:\n",
    "        ordlist.append(ord(i))\n",
    "for i in ordlist:\n",
    "    print(chr(i),end='')\n",
    "print(' ')\n",
    "\n",
    "s=input(\"복호화 문자열을 입력하세요 :\")\n",
    "r=s.split()\n",
    "r=r[::-1]\n",
    "s=\" \".join(r)\n",
    "slist=list(s)\n",
    "ordlist=[]\n",
    "for i in slist:\n",
    "    if(ord(i)!=32):\n",
    "        ordlist.append(ord(i)-1)\n",
    "    else:\n",
    "        ordlist.append(ord(i))\n",
    "for i in ordlist:\n",
    "    print(chr(i),end='')\n"
   ]
  },
  {
   "cell_type": "code",
   "execution_count": null,
   "id": "ec9a9ad9",
   "metadata": {},
   "outputs": [],
   "source": [
    "tel_num = {}\n",
    "i=0\n",
    "while i<10:\n",
    "    name = input(\"(입력모드)이름을 입력하세요 :\")\n",
    "    tel = input(\"전화번호를 입력하세요 : \")\n",
    "    tel_num[name] = tel\n",
    "    i=i+1\n",
    "    \n",
    "\n",
    "name = input(\"(검색모드)이름을 입력하세요 :\")\n",
    "tel = tel_num[name]\n",
    "print(name, \"의 전화번호는 \", tel , \"입니다\")\n"
   ]
  }
 ],
 "metadata": {
  "kernelspec": {
   "display_name": "Python 3",
   "language": "python",
   "name": "python3"
  },
  "language_info": {
   "codemirror_mode": {
    "name": "ipython",
    "version": 3
   },
   "file_extension": ".py",
   "mimetype": "text/x-python",
   "name": "python",
   "nbconvert_exporter": "python",
   "pygments_lexer": "ipython3",
   "version": "3.9.5"
  }
 },
 "nbformat": 4,
 "nbformat_minor": 5
}
